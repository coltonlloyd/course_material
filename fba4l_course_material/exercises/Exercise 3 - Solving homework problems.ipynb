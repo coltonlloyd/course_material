{
 "cells": [
  {
   "cell_type": "code",
   "execution_count": 1,
   "metadata": {},
   "outputs": [],
   "source": [
    "import cobra\n",
    "import pandas as pd\n",
    "from matplotlib import pyplot as plt\n",
    "import numpy as np\n",
    "from beng213 import resources\n",
    "from os.path import dirname, abspath\n",
    "import escher\n",
    "\n",
    "resource_dir = '../resources'\n",
    "map_loc = '%s/core_map_v17.json' % resource_dir\n",
    "%matplotlib inline"
   ]
  },
  {
   "cell_type": "markdown",
   "metadata": {},
   "source": [
    "# Solving book problems from Lehninger"
   ]
  },
  {
   "cell_type": "code",
   "execution_count": 2,
   "metadata": {},
   "outputs": [
    {
     "data": {
      "application/vnd.jupyter.widget-view+json": {
       "model_id": "7e13948b039d4332bd8eb9abb571227f",
       "version_major": 2,
       "version_minor": 0
      },
      "text/plain": [
       "Builder()"
      ]
     },
     "metadata": {},
     "output_type": "display_data"
    }
   ],
   "source": [
    "builder = escher.Builder(map_json=map_loc)\n",
    "builder"
   ]
  },
  {
   "cell_type": "markdown",
   "metadata": {},
   "source": [
    "## Chapter 14 problem 10\n",
    "**Glycolysis Shortcut:** Suppose you discovered a mutant yeast whose glycolytic pathway was shorter because of the presence of a new enzyme catalyzing the reaction:\n",
    "\n",
    "w/ metabolite names: `glyceraldehyde 3 phosphate + h2o + nad -> nadh + h + 2-phosphoglycerate`\n",
    "\n",
    "w/ bigg ids: `g3p_c + h2o_c + nad_c -> nadh_c + h_c + 2pg_c`\n",
    "\n",
    "**Approach**\n",
    "1. Add reaction to core model\n",
    "2. Plot maximum ATP production as a function of shortcut reaction activity\n"
   ]
  },
  {
   "cell_type": "code",
   "execution_count": 3,
   "metadata": {},
   "outputs": [],
   "source": [
    "# Load Model\n",
    "model = cobra.io.load_json_model('%s/core_model.json' % resource_dir)\n"
   ]
  },
  {
   "cell_type": "markdown",
   "metadata": {},
   "source": [
    "## Chapter 16 problem 24\n",
    "\n",
    "**Net Synthesis of $\\alpha$-Ketoglutarate:** $\\alpha$-Ketoglutarate plays a central role in the biosynthesis of several amino acids. Write a sequence of enzymatic reactions that could result in the net synthesis of $\\alpha$-ketoglutarate from pyruvate. Your proposed sequence must not involve the net consumption of other citric acid cycle intermediates. \n",
    "\n",
    "**Approach**\n",
    "1. Simulate the synthesis of $\\alpha$-ketoglutarate from pyruvate and display the solutions on a flux map\n",
    " - Use `cobra.flux_analysis.pfba` to ensure a parsimonious flux state"
   ]
  },
  {
   "cell_type": "code",
   "execution_count": 4,
   "metadata": {},
   "outputs": [],
   "source": [
    "# load model\n",
    "model = cobra.io.load_json_model('%s/core_model.json' % resource_dir)\n"
   ]
  },
  {
   "cell_type": "code",
   "execution_count": 5,
   "metadata": {},
   "outputs": [],
   "source": [
    "#builder = escher.Builder(map_json=map_loc, reaction_data=sol.to_frame()['fluxes'])\n",
    "#builder"
   ]
  },
  {
   "cell_type": "markdown",
   "metadata": {},
   "source": [
    "## Chapter 14 problem 8\n",
    "\n",
    "**Fermentation to Produce Soy Sauce**: Soy sauce is prepared by fermenting a salted mixture of soybeans and wheat with several microorganisms, including yeast, over a period of 8 to 12 months. The resulting sauce (after solids are removed) is rich in lactate and ethanol.\n",
    "\n",
    "To prevent the soy sauce from having a strong vinegar taste (vinegar is dilute acetic acid), oxygen must be kept out of the fermentation tank. Why?\n",
    "\n",
    "**Approach**\n",
    "1. Add fermentation reactions to glycolysis model (from pyruvate)\n",
    " - Ethanol: PYRDC, ALCD2ir -- yeast reactions\n",
    " - Acetate: PDH, PTAr, ACKr -- e coli reactions\n",
    "2. Knock out pyr_to_ATP reaction \n",
    "3. Fermentation is an adaptive mechanism to increase ATP yield. Restrict to one fermentation product and optimize for ATP\n",
    " - In aerobic and anaerobic conditions\n",
    "4. Which fermentation byproduct results in the highest ATP yield in aerobic/anaerobic conditions?\n"
   ]
  },
  {
   "cell_type": "code",
   "execution_count": 6,
   "metadata": {},
   "outputs": [],
   "source": [
    "# use the glycolysis model (it is well conserved)\n",
    "glycolysis = cobra.io.load_json_model('%s/glycolysis_model.json' % resource_dir)\n",
    "# can add the ethanol and acetate synthesis reactions from the yeast and e coli model\n",
    "ecoli = cobra.io.load_json_model('%s/iML1515.json'  % resource_dir)\n",
    "yeast = cobra.io.load_json_model('%s/iMM904.json'  % resource_dir)\n"
   ]
  },
  {
   "cell_type": "code",
   "execution_count": null,
   "metadata": {},
   "outputs": [],
   "source": []
  },
  {
   "cell_type": "markdown",
   "metadata": {},
   "source": [
    "## Chapter 16 problem 30\n",
    "Although oxygen does not participate directly\n",
    "in the citric acid cycle, the cycle operates only when O2 is\n",
    "present. Why?"
   ]
  },
  {
   "cell_type": "code",
   "execution_count": 6,
   "metadata": {},
   "outputs": [],
   "source": [
    "model = cobra.io.load_json_model('%s/core_model.json' % resource_dir)\n"
   ]
  },
  {
   "cell_type": "markdown",
   "metadata": {},
   "source": [
    "## Chapter 16 problem 23\n",
    "**Synthesis of L-Malate in Wine Making:** The tartness of some wines is due to high concentrations of L-malate. Write a sequence of reactions showing how yeast cells synthesize L-malate from glucose under anaerobic conditions in the presence of dissolved CO2 (HCO3 ). Note that the overall reaction for this fermentation cannot involve the consumption of nicotinamide coenzymes or citric acid cycle intermediates.\n",
    "\n",
    "**Approach**\n",
    "1. Ensure that all biosynthetic intermediates of malate can be synthesized in the cytosol\n",
    " - If not use bigg to find a reaction in yeast that can fulfill role\n",
    "2. Optimize anaerobically to get net equation\n"
   ]
  },
  {
   "cell_type": "code",
   "execution_count": 7,
   "metadata": {
    "scrolled": true
   },
   "outputs": [],
   "source": [
    "model = cobra.io.load_json_model('%s/core_model.json' % resource_dir)\n"
   ]
  },
  {
   "cell_type": "markdown",
   "metadata": {},
   "source": [
    "### Chapter 17 problem 23 (modified)\n",
    "\n",
    "**$\\beta$ Oxidation of Caprylic acid:** How many turns of the TCA cycle are required to fully oxidize the acetyl-CoA generated in $\\beta$ oxidation of 1 mol of Caprylic acid? How many ATP can be generated from 1 mol of Caprylic acid\n",
    "\n",
    "**Hint**: uptake for Caprylic acid is `EX_octa_c`"
   ]
  },
  {
   "cell_type": "code",
   "execution_count": 8,
   "metadata": {},
   "outputs": [],
   "source": [
    "model = cobra.io.load_json_model('%s/core_model.json' % resource_dir)\n"
   ]
  },
  {
   "cell_type": "code",
   "execution_count": null,
   "metadata": {},
   "outputs": [],
   "source": []
  }
 ],
 "metadata": {
  "kernelspec": {
   "display_name": "everything",
   "language": "python",
   "name": "everything"
  },
  "language_info": {
   "codemirror_mode": {
    "name": "ipython",
    "version": 3
   },
   "file_extension": ".py",
   "mimetype": "text/x-python",
   "name": "python",
   "nbconvert_exporter": "python",
   "pygments_lexer": "ipython3",
   "version": "3.9.2"
  }
 },
 "nbformat": 4,
 "nbformat_minor": 4
}
