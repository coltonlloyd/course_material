{
 "cells": [
  {
   "cell_type": "markdown",
   "metadata": {},
   "source": [
    "# Simulate core energy metabolism\n",
    "\n",
    "Computationally assess the characteristics of a simple model of core energy metabolism that includes:\n",
    "\n",
    "1. Glycolysis\n",
    "2. Pentose phosphate pathway\n",
    "3. TCA Cycle\n",
    "4. Electron transport chain"
   ]
  },
  {
   "cell_type": "code",
   "execution_count": 5,
   "metadata": {},
   "outputs": [],
   "source": [
    "from __future__ import print_function\n",
    "import cobra\n",
    "from matplotlib import pyplot as plt\n",
    "import escher\n",
    "import os\n",
    "import pandas as pd\n",
    "import numpy as np\n",
    "from beng213 import resources\n",
    "\n",
    "from os.path import dirname, abspath\n",
    "\n",
    "resource_dir = '../resources/'\n",
    "\n",
    "%matplotlib inline"
   ]
  },
  {
   "cell_type": "code",
   "execution_count": 6,
   "metadata": {},
   "outputs": [
    {
     "data": {
      "application/vnd.jupyter.widget-view+json": {
       "model_id": "5d09f4acf653426a842aac1015039e1e",
       "version_major": 2,
       "version_minor": 0
      },
      "text/plain": [
       "Builder()"
      ]
     },
     "metadata": {},
     "output_type": "display_data"
    }
   ],
   "source": [
    "# The reactions and metabolites to be added in this exercise\n",
    "builder = escher.Builder(map_json='%s/gly_ppp_tca_etc_map.json'% resource_dir)\n",
    "builder"
   ]
  },
  {
   "cell_type": "code",
   "execution_count": 8,
   "metadata": {},
   "outputs": [],
   "source": [
    "model_cons = cobra.io.load_json_model('%s/glycolysis_ppp_tca_etc_model.json' % resource_dir)"
   ]
  },
  {
   "cell_type": "markdown",
   "metadata": {},
   "source": [
    "## A) Revisiting old assumptions\n",
    "### 1) Set the objective to ATPM and optimize"
   ]
  },
  {
   "cell_type": "code",
   "execution_count": 9,
   "metadata": {},
   "outputs": [],
   "source": [
    "# start each section by copying model to prevent losing track of model changes\n",
    "model = model_cons.copy()"
   ]
  },
  {
   "cell_type": "markdown",
   "metadata": {},
   "source": [
    "### 2) Assess the cause of the decrease in ATP yield\n",
    "Using the glycolysis model and the `pyr_to_ATP` and `NADH_to_ATP` pseudo-reactions, the computed yield was 32 ATP per glucose\n",
    "\n",
    "Use the `h_i` metabolite's `summary` method to find the reactions producing and consumine the high energy protons"
   ]
  },
  {
   "cell_type": "code",
   "execution_count": null,
   "metadata": {},
   "outputs": [],
   "source": []
  },
  {
   "cell_type": "markdown",
   "metadata": {},
   "source": [
    "## B) Modeling alternative pathways\n",
    "\n",
    "### 1) Characterize the consequence of the two \"extreme\" fates for glucose 6 phosphate\n",
    "\n",
    "Either all flux through upper glycolysis (PGI) or all flux through PPP (G6PDH2r)\n",
    "\n",
    "Knock out PGI and optimize for ATPM flux. Display the fluxes through the following reactions on a bar chart:\n",
    "\n",
    "| ID      | Interpretation \n",
    "| :-------------: |:-------------:|\n",
    "| ATPM | ATP production potential |\n",
    "| GTHOr | NADPH produced | \n",
    "| EX_h_c | Protons produced    | \n",
    "| EX_co2_c | CO$_2$ produced     | \n",
    "| EX_h2o_c | Water produced     | \n",
    "\n",
    "Repeat analysis with G6PDH2r knocked out"
   ]
  },
  {
   "cell_type": "code",
   "execution_count": null,
   "metadata": {},
   "outputs": [],
   "source": []
  },
  {
   "cell_type": "markdown",
   "metadata": {},
   "source": [
    "### 2) Characterizing the solution space: Flux variability analysis (FVA)\n",
    "\n",
    "Maximize and minimize the flux through G6PDH2r and PGI for values of ATPM form 0 to the maximum values\n",
    " - **Note** minimization is performed by passing 'minimize' into `optimize` method\n",
    " \n",
    "Use the `plot_fva` to visualize results. Store the outpus in lists corresponding to those in `plot_fva`."
   ]
  },
  {
   "cell_type": "code",
   "execution_count": null,
   "metadata": {},
   "outputs": [],
   "source": [
    "def plot_fva(atpm_values, max_g6pdh_values, max_pgi_values, min_g6pdh_values, min_pgi_values):\n",
    "    \"\"\"\n",
    "    Parameters\n",
    "    ----------\n",
    "    atpm_values : list\n",
    "        list of ATPM flux values from 0 to max\n",
    "        \n",
    "    max_g6pdh_values : list\n",
    "        list of maximum G6PDH2r flux values at the ATPM fluxes in atpm_values\n",
    "    max_pgi_values : list\n",
    "        list of maximum PGI flux values at the ATPM fluxes in atpm_values\n",
    "\n",
    "    min_g6pdh_values : list \n",
    "        list of minimum G6PDH2r flux values at the ATPM fluxes in atpm_values\n",
    "\n",
    "    min_pgi_values : list\n",
    "        list of minimum PGI flux values at the ATPM fluxes in atpm_values\n",
    "\n",
    "    \"\"\"\n",
    "    plt.fill_between(atpm_values, max_g6pdh_values, min_g6pdh_values, \n",
    "                     label='G6PDH(ppp)', alpha=.7)\n",
    "    plt.fill_between(atpm_values, max_pgi_values, min_pgi_values, \n",
    "                     label='PGI(glycolysis)', alpha=.7)\n",
    "    plt.legend()\n",
    "    plt.xlabel('ATPM flux')\n",
    "    plt.ylabel('Range of possible fluxes')"
   ]
  },
  {
   "cell_type": "code",
   "execution_count": null,
   "metadata": {},
   "outputs": [],
   "source": []
  },
  {
   "cell_type": "markdown",
   "metadata": {},
   "source": [
    "### 3) Characterizing solution space (sampling)\n",
    "\n",
    "Use the `cobra.sampling` function to sample the model 1000 times.\n",
    "\n",
    "**Note**: this returns a dataframe. You can visualize the solutions with `df[['G6PDH2r', 'PGI']].hist()`"
   ]
  },
  {
   "cell_type": "code",
   "execution_count": null,
   "metadata": {},
   "outputs": [],
   "source": []
  },
  {
   "cell_type": "code",
   "execution_count": null,
   "metadata": {},
   "outputs": [],
   "source": []
  },
  {
   "cell_type": "markdown",
   "metadata": {},
   "source": [
    "## C) Characteristics of core energy metabolism\n",
    "### 1) Carbon yield of gluconeogenic substrats\n",
    "Assess the carbon yield and gluconeogenesis pathway used to generate g6p from each carbon containing metabolite\n",
    "\n",
    "**Approach**\n",
    "1. Add exchange reaction for g6p_c to use as the objective reaction\n",
    "  - Make sure the lower bound is set to 0 (i.e., g6p_c -> )\n",
    "\n",
    "2. Set glucose uptake to zero\n",
    "\n",
    "3. Iterate through all model metabolites\n",
    " - Skip those with no C molecules in formula\n",
    " - Can check for this using, for example, `model.metabolites.co2_c.elements.get('C', 0)`. This will return 0 if the metabolite does not contain any carbons\n",
    " \n",
    "4. Check for an existing exchange reaction for the metabolite. \n",
    " - If it does not not exist, add one\n",
    " - Set the lower bound of the exchange reaction to 1\n",
    "\n",
    "5. Set objective to EX_g6p_c and optimize\n",
    " - Use `cobra.flux_analysis.pfba` for optimization. This will return the most parsimonious solution (i.e., the sum of flux values in the model will be minimized)\n",
    "\n",
    "\n",
    "6. Calculate the carbon yield of g6p per substrate\n",
    " - Can return the number of carbons per mol of substrate using command above (i.e.,\n",
    " `mol_c_substrate = model.metabolites.co2_c.elements.get('C', 0)`)\n",
    " -  `carbon_yield_substrate = sol.fluxes['EX_g6p_c'] * 6 / mol_c_substrate`\n",
    " \n",
    "7. Compute the absolute value of the flux through two mitochondrial transporters: MALtm and PEPtm\n",
    " \n",
    "7. Save solution in a pandas `DataFrame` structured like below:\n",
    "\n",
    "| Met ID      | g6p yield | MALtm |PEPtm |\n",
    "| :-------------: |:-------------:|:-------------:| :-------------:|\n",
    "| glc__D_c |  | |  |\n",
    "| pep_c |  |   |  |\n",
    "| . |  |   |  |\n",
    "| . |  |   |  |\n",
    "\n",
    "9. Use `plot_carbon_yield` to visualize solution\n",
    "\n",
    "\n",
    "**Note:** make sure to either remove any newly added exchanges (or set the exchange to zero) before computing the yield for the next metabolite. You can also use the model as a context as described in https://cobrapy.readthedocs.io/en/latest/getting_started.html#Making-changes-reversibly-using-models-as-contexts "
   ]
  },
  {
   "cell_type": "code",
   "execution_count": null,
   "metadata": {},
   "outputs": [],
   "source": [
    "def plot_carbon_yield(input_df):\n",
    "    \n",
    "    fig, ax = plt.subplots(1,1)\n",
    "    #glc_per_mol = glc_per_mol.rename({'glucose yield': r'G6P Yield ($\\mathrm{\\frac{mol\\ C_{G6P}}{mol\\ C_{precursor}}}$)'}, axis=1)\n",
    "    ax = glc_per_mol[['MALtm', 'PEPtm']].plot(kind='bar', figsize=(12.5, 5), ax=ax)\n",
    "    ax2_color = '#7c5395'\n",
    "    ax2= glc_per_mol['g6p yield'].plot(secondary_y=True, color=ax2_color, linewidth=5)\n",
    "    ax2.tick_params(axis='y', labelsize=15, labelcolor=ax2_color, color=ax2_color)\n",
    "    ax2.set_ylabel(r'G6P Yield ($\\mathrm{\\frac{mol\\ C_{G6P}}{mol\\ C_{precursor}}}$)', c=ax2_color, \n",
    "                   rotation=-90, fontsize=25,labelpad=55)\n",
    "    ax.set_ylabel(r'Transport Flux ($\\mathrm{\\frac{mmol}{L}}$)', fontsize=25)\n",
    "    ax.legend(fontsize=15, loc='center right')\n",
    "    ax.set_xticklabels(ax.get_xticklabels(), rotation=45, ha='right', fontdict={'size': 14})\n",
    "    ax.tick_params(axis='y', labelsize=15)\n",
    "    ax.set_title('Gluconeogenic compounds in glycolysis, PPP, and TCA', size=25)\n",
    "    fig.tight_layout()\n",
    "    fig"
   ]
  },
  {
   "cell_type": "markdown",
   "metadata": {},
   "source": [
    "### 2) Common pitfalls: neglecting metabolite transport\n",
    "\n",
    "Iterate through all reactions:\n",
    "\n",
    "1. check if reactions is mitchondrial transport  using `mitochondrial_exchange`\n",
    "\n",
    "2. if reaction is transporter, knock out\n",
    "\n",
    "3. optimize for ATP synthesis\n",
    "\n",
    "4. store results in dataframe and plot as bar plot"
   ]
  },
  {
   "cell_type": "code",
   "execution_count": null,
   "metadata": {},
   "outputs": [],
   "source": [
    "def mitochondrial_exchange(reaction):\n",
    "    cytosolic = False\n",
    "    mitochondrial = False\n",
    "    for m in reaction.metabolites:\n",
    "        if m.id[-2:] == '_c':\n",
    "            cytosolic = True\n",
    "        if m.id[-2:] == '_m':\n",
    "            mitochondrial = True\n",
    "    # If reaction contains both mitochondrial and\n",
    "    # cytosolic metabolite, return True\n",
    "    if cytosolic and mitochondrial:\n",
    "        return True\n",
    "    else:\n",
    "        return False"
   ]
  },
  {
   "cell_type": "code",
   "execution_count": null,
   "metadata": {
    "scrolled": true
   },
   "outputs": [],
   "source": []
  }
 ],
 "metadata": {
  "kernelspec": {
   "display_name": "everything",
   "language": "python",
   "name": "everything"
  },
  "language_info": {
   "codemirror_mode": {
    "name": "ipython",
    "version": 3
   },
   "file_extension": ".py",
   "mimetype": "text/x-python",
   "name": "python",
   "nbconvert_exporter": "python",
   "pygments_lexer": "ipython3",
   "version": "3.9.2"
  }
 },
 "nbformat": 4,
 "nbformat_minor": 4
}
